{
 "cells": [
  {
   "cell_type": "markdown",
   "metadata": {},
   "source": [
    "<h1> Groupe 3 - DashBoard\n",
    "    \n",
    "> Script Insertion BD MySQL Notebook\n",
    "\n",
    "<span class=\"tocSkip\"></span>\n",
    "\n",
    "> *Authors M2 : Quentin MARCU, Thomas ROY, Rania YAHYAOUI* <br>\n",
    "> *Authors M1 : Alice AIRAULT, Thomas ZEUTZIUS* <br>\n",
    "> *Author L3 : Théo SACCAREAU*\n",
    "\n",
    "</h1>"
   ]
  },
  {
   "cell_type": "markdown",
   "metadata": {
    "toc": true
   },
   "source": [
    "<h1>Table of Contents<span class=\"tocSkip\"></span></h1>\n",
    "<div class=\"toc\"><ul class=\"toc-item\"><li><span><a href=\"#Introduction\" data-toc-modified-id=\"Introduction-1\"><span class=\"toc-item-num\">1&nbsp;&nbsp;</span>Introduction</a></span></li><li><span><a href=\"#Tables-dimension\" data-toc-modified-id=\"Tables-dimension-2\"><span class=\"toc-item-num\">2&nbsp;&nbsp;</span>Tables dimension</a></span><ul class=\"toc-item\"><li><span><a href=\"#AIRLINE\" data-toc-modified-id=\"AIRLINE-2.1\"><span class=\"toc-item-num\">2.1&nbsp;&nbsp;</span>AIRLINE</a></span></li><li><span><a href=\"#ROUTE\" data-toc-modified-id=\"ROUTE-2.2\"><span class=\"toc-item-num\">2.2&nbsp;&nbsp;</span>ROUTE</a></span></li><li><span><a href=\"#SERVICE\" data-toc-modified-id=\"SERVICE-2.3\"><span class=\"toc-item-num\">2.3&nbsp;&nbsp;</span>SERVICE</a></span></li><li><span><a href=\"#PASSENGER\" data-toc-modified-id=\"PASSENGER-2.4\"><span class=\"toc-item-num\">2.4&nbsp;&nbsp;</span>PASSENGER</a></span></li><li><span><a href=\"#SEAT\" data-toc-modified-id=\"SEAT-2.5\"><span class=\"toc-item-num\">2.5&nbsp;&nbsp;</span>SEAT</a></span></li><li><span><a href=\"#DATE\" data-toc-modified-id=\"DATE-2.6\"><span class=\"toc-item-num\">2.6&nbsp;&nbsp;</span>DATE</a></span></li></ul></li><li><span><a href=\"#Fact-table-:-NOTES\" data-toc-modified-id=\"Fact-table-:-NOTES-3\"><span class=\"toc-item-num\">3&nbsp;&nbsp;</span>Fact table : NOTES</a></span><ul class=\"toc-item\"><li><span><a href=\"#Service\" data-toc-modified-id=\"Service-3.1\"><span class=\"toc-item-num\">3.1&nbsp;&nbsp;</span>Service</a></span></li><li><span><a href=\"#Passenger\" data-toc-modified-id=\"Passenger-3.2\"><span class=\"toc-item-num\">3.2&nbsp;&nbsp;</span>Passenger</a></span></li><li><span><a href=\"#Route\" data-toc-modified-id=\"Route-3.3\"><span class=\"toc-item-num\">3.3&nbsp;&nbsp;</span>Route</a></span></li><li><span><a href=\"#Date\" data-toc-modified-id=\"Date-3.4\"><span class=\"toc-item-num\">3.4&nbsp;&nbsp;</span>Date</a></span></li><li><span><a href=\"#Seat\" data-toc-modified-id=\"Seat-3.5\"><span class=\"toc-item-num\">3.5&nbsp;&nbsp;</span>Seat</a></span></li><li><span><a href=\"#Airline\" data-toc-modified-id=\"Airline-3.6\"><span class=\"toc-item-num\">3.6&nbsp;&nbsp;</span>Airline</a></span></li><li><span><a href=\"#Deletion\" data-toc-modified-id=\"Deletion-3.7\"><span class=\"toc-item-num\">3.7&nbsp;&nbsp;</span>Deletion</a></span></li><li><span><a href=\"#Modification-of-&quot;Overall_Customer_Rating&quot;-parameter\" data-toc-modified-id=\"Modification-of-&quot;Overall_Customer_Rating&quot;-parameter-3.8\"><span class=\"toc-item-num\">3.8&nbsp;&nbsp;</span>Modification of \"Overall_Customer_Rating\" parameter</a></span></li><li><span><a href=\"#Columns-reordering\" data-toc-modified-id=\"Columns-reordering-3.9\"><span class=\"toc-item-num\">3.9&nbsp;&nbsp;</span>Columns reordering</a></span></li></ul></li></ul></div>"
   ]
  },
  {
   "cell_type": "markdown",
   "metadata": {},
   "source": [
    "## Introduction"
   ]
  },
  {
   "cell_type": "code",
   "execution_count": null,
   "metadata": {},
   "outputs": [],
   "source": [
    "\n",
    "\n",
    "\n",
    "\n",
    "\n",
    "\n"
   ]
  },
  {
   "cell_type": "markdown",
   "metadata": {},
   "source": [
    "***Import***"
   ]
  },
  {
   "cell_type": "code",
   "execution_count": 1,
   "metadata": {},
   "outputs": [],
   "source": [
    "import pandas as pd\n",
    "import numpy as np\n",
    "import mysql.connector\n",
    "import unicodedata\n",
    "import re\n",
    "from tqdm import tqdm"
   ]
  },
  {
   "cell_type": "markdown",
   "metadata": {},
   "source": [
    "***Path***"
   ]
  },
  {
   "cell_type": "code",
   "execution_count": 2,
   "metadata": {},
   "outputs": [],
   "source": [
    "# (!) Change the path\n",
    "path = \"/home/theo/Documents/S6/Projet_InterPromo/Donnees/All Data/\""
   ]
  },
  {
   "cell_type": "markdown",
   "metadata": {},
   "source": [
    "***Converting files to Dataframe***"
   ]
  },
  {
   "cell_type": "code",
   "execution_count": 3,
   "metadata": {},
   "outputs": [],
   "source": [
    "aircraft_detail = pd.read_excel(path + \"AIRCRAFT_DETAIL_V2.xlsx\")\n",
    "all_data = pd.read_excel(path + \"ALL_DATA.xlsx\")\n",
    "all_data_ann = pd.read_excel(path + \"ALL_DATA_ANNOTATE.xlsx\")\n",
    "data_kayak_route = pd.read_excel(path + \"DATA_KAYAK_ROUTE.xlsx\")\n",
    "kayak_airline_route = pd.read_excel(path + \"KAYAK_AIRLINE_RATE_GLOBAL.xlsx\")\n",
    "others_data = pd.read_excel(path + \"OTHERS_DATA_ANNOTATE.xlsx\")\n",
    "seat_info = pd.read_csv(path + \"SEATGURU_INFO_AIRCRAFT.csv\", sep=\";\")"
   ]
  },
  {
   "cell_type": "markdown",
   "metadata": {},
   "source": [
    "***Connection to the MySQL database***"
   ]
  },
  {
   "cell_type": "code",
   "execution_count": 4,
   "metadata": {},
   "outputs": [],
   "source": [
    "# (!) Change the MySQL connection\n",
    "mydb = mysql.connector.connect(\n",
    "    host=\"localhost\",\n",
    "    user=\"root\",\n",
    "    passwd=\"29101999esg\",\n",
    "    database=\"BDD\"\n",
    ")\n",
    "\n",
    "mycursor = mydb.cursor()"
   ]
  },
  {
   "cell_type": "markdown",
   "metadata": {},
   "source": [
    "## Tables dimension"
   ]
  },
  {
   "cell_type": "markdown",
   "metadata": {},
   "source": [
    "###  AIRLINE"
   ]
  },
  {
   "cell_type": "markdown",
   "metadata": {},
   "source": [
    "***Copying the file***"
   ]
  },
  {
   "cell_type": "code",
   "execution_count": 5,
   "metadata": {},
   "outputs": [],
   "source": [
    "to_insert_in_airline = kayak_airline_route.copy()"
   ]
  },
  {
   "cell_type": "markdown",
   "metadata": {},
   "source": [
    "***Delete column***"
   ]
  },
  {
   "cell_type": "code",
   "execution_count": 6,
   "metadata": {},
   "outputs": [],
   "source": [
    "del to_insert_in_airline['Data_Source']"
   ]
  },
  {
   "cell_type": "markdown",
   "metadata": {},
   "source": [
    "***List***"
   ]
  },
  {
   "cell_type": "code",
   "execution_count": 7,
   "metadata": {},
   "outputs": [],
   "source": [
    "#List of parameters in the \"Airline\" table\n",
    "columns_airline = ['Boarding', 'Cabin_Staff_Service', 'Comfort',\n",
    "                   'Entertainment', 'Food_And_Beverages', 'Overall_Airline_Rating']"
   ]
  },
  {
   "cell_type": "markdown",
   "metadata": {},
   "source": [
    "***Functions***"
   ]
  },
  {
   "cell_type": "code",
   "execution_count": 8,
   "metadata": {},
   "outputs": [],
   "source": [
    "# Replace values of columns\n",
    "def COLUMNS_REPLACE_AIRLINE(df, columns_airline: list):\n",
    "    \"\"\" Documentation\n",
    "    Parameters :\n",
    "        df : change dataframe\n",
    "        columns_airline : list of columns to change    \n",
    "\n",
    "    Out (if exists) :\n",
    "        df : dataframe with replaced values and float columns    \n",
    "\n",
    "    Runtime :\n",
    "        12 ms ± 967 µs per loop (mean ± std. dev. of 7 runs, 100 loops each)\n",
    "    \"\"\"\n",
    "\n",
    "    for i in range(len(columns_airline)):\n",
    "        # replace \",\" with \".\" to set the columns to \"float\"\n",
    "        df[columns_airline[i]] = df[columns_airline[i]].str.replace(',', '.')\n",
    "        df[columns_airline[i]] = df[columns_airline[i]].apply(\n",
    "            lambda x: float(x))"
   ]
  },
  {
   "cell_type": "code",
   "execution_count": 9,
   "metadata": {},
   "outputs": [],
   "source": [
    "# Put a mention for each score\n",
    "def FIND_MENTION(score: float):\n",
    "    \"\"\" Documentation\n",
    "    Parameters :\n",
    "        score : score for airline   \n",
    "\n",
    "    Out (if exists) :\n",
    "        mention : str for the mention of airline\n",
    "\n",
    "    Runtime :\n",
    "        36.7 µs ± 613 ns per loop (mean ± std. dev. of 7 runs, 10000 loops each)\n",
    "    \"\"\"\n",
    "\n",
    "    # If the \"score\" is lower then we give the mention\n",
    "    if score < 4:\n",
    "        mention = \"médiocre\"\n",
    "    elif score < 6:\n",
    "        mention = \"correct\"\n",
    "    elif score < 8:\n",
    "        mention = \"bien\"\n",
    "    else:\n",
    "        mention = \"excellent\"\n",
    "\n",
    "    return mention"
   ]
  },
  {
   "cell_type": "markdown",
   "metadata": {},
   "source": [
    "***Program***"
   ]
  },
  {
   "cell_type": "code",
   "execution_count": 10,
   "metadata": {},
   "outputs": [],
   "source": [
    "# Call the \"COLUMNS_REPLACE_AIRLINE\" function\n",
    "COLUMNS_REPLACE_AIRLINE(to_insert_in_airline, columns_airline)"
   ]
  },
  {
   "cell_type": "code",
   "execution_count": 11,
   "metadata": {},
   "outputs": [],
   "source": [
    "# Create a set with the airlines in the \"kayak_airline_route\" file\n",
    "set_airline = set()"
   ]
  },
  {
   "cell_type": "code",
   "execution_count": 12,
   "metadata": {},
   "outputs": [],
   "source": [
    "# Remove accents\n",
    "to_insert_in_airline['Airline_Name'] = to_insert_in_airline['Airline_Name'].apply(lambda x: str(\n",
    "    unicodedata.normalize('NFKD', x.lower()).encode('ascii', 'ignore'))[2:-1] if x is not None else x)"
   ]
  },
  {
   "cell_type": "code",
   "execution_count": 13,
   "metadata": {},
   "outputs": [
    {
     "name": "stderr",
     "output_type": "stream",
     "text": [
      "100%|██████████| 400/400 [00:01<00:00, 342.45it/s]\n"
     ]
    }
   ],
   "source": [
    "# If an airline is present several times, then the average of these evaluations is calculated\n",
    "for airline in tqdm(to_insert_in_airline['Airline_Name']):\n",
    "    df_Air = to_insert_in_airline[to_insert_in_airline['Airline_Name'] == airline]\n",
    "\n",
    "    if len(df_Air) > 1:\n",
    "        list_air = [airline,\n",
    "                    np.mean(df_Air['Boarding']),\n",
    "                    np.mean(df_Air['Cabin_Staff_Service']),\n",
    "                    np.mean(df_Air['Comfort']),\n",
    "                    np.mean(df_Air['Entertainment']),\n",
    "                    np.mean(df_Air['Food_And_Beverages']),\n",
    "                    np.mean(df_Air['Overall_Airline_Rating']),\n",
    "                    FIND_MENTION(np.mean(df_Air['Overall_Airline_Rating'])),\n",
    "                    sum(df_Air['Number_Evaluation'])]\n",
    "        to_insert_in_airline = to_insert_in_airline[to_insert_in_airline['Airline_Name'] != airline]\n",
    "        to_insert_in_airline = to_insert_in_airline.append(\n",
    "            pd.DataFrame([list_air], columns=list(to_insert_in_airline)))\n",
    "\n",
    "    # If an airline is not present, we add it to set\n",
    "    if (not airline in set_airline):\n",
    "        set_airline.add(airline)"
   ]
  },
  {
   "cell_type": "code",
   "execution_count": 14,
   "metadata": {},
   "outputs": [],
   "source": [
    "# We add to set and \"to_insert_in_airline\" dataframe the airlines without notes (those of All_Data)\n",
    "col_airline = all_data.copy()['Airline_Name'].apply(lambda x: str(unicodedata.normalize(\n",
    "    'NFKD', x.lower()).encode('ascii', 'ignore'))[2:-1] if x is not None else x)\n",
    "\n",
    "for new_airline in col_airline:\n",
    "\n",
    "    if (not new_airline in set_airline):\n",
    "        set_airline.add(new_airline)\n",
    "        to_insert_in_airline = to_insert_in_airline.append(pd.DataFrame(np.array(\n",
    "            [[new_airline, None, None, None, None, None, None, None, None]]), columns=list(to_insert_in_airline)))"
   ]
  },
  {
   "cell_type": "code",
   "execution_count": 15,
   "metadata": {},
   "outputs": [],
   "source": [
    "# Replace \"nan\" by \"None\"\n",
    "to_insert_in_airline[['Boarding', 'Cabin_Staff_Service', 'Comfort', 'Entertainment', 'Food_And_Beverages', 'Overall_Airline_Rating']] = to_insert_in_airline[[\n",
    "    'Boarding', 'Cabin_Staff_Service', 'Comfort', 'Entertainment', 'Food_And_Beverages', 'Overall_Airline_Rating']].replace({pd.np.nan: None})"
   ]
  },
  {
   "cell_type": "markdown",
   "metadata": {},
   "source": [
    "***Insertion in the database***"
   ]
  },
  {
   "cell_type": "code",
   "execution_count": 16,
   "metadata": {},
   "outputs": [
    {
     "name": "stderr",
     "output_type": "stream",
     "text": [
      "100%|██████████| 727/727 [00:01<00:00, 718.63it/s]\n"
     ]
    }
   ],
   "source": [
    "# We insert the values of \"to_insert_in_airline\" dataframe in the \"AIRLINE\" table thanks to the \"mycursor\" cursor established at the beginning of the Notebook\n",
    "sql_request_airline = \"INSERT INTO AIRLINE (airline_name, boarding, cabin_staff_service, comfort, entertainment, food_and_beverages, overall_airline_rating, mention, number_evaluation) VALUES (%s, %s, %s, %s, %s, %s, %s, %s, %s)\"\n",
    "\n",
    "for i in tqdm(range(len(to_insert_in_airline))):\n",
    "    line = list(to_insert_in_airline.iloc[i, :])\n",
    "    if (line[8] is not None):\n",
    "        line[8] = int(line[8])\n",
    "    values_airline = (line[0], line[1], line[2], line[3],\n",
    "                      line[4], line[5], line[6], line[7], line[8])\n",
    "    mycursor.execute(sql_request_airline, values_airline)\n",
    "\n",
    "mydb.commit()"
   ]
  },
  {
   "cell_type": "markdown",
   "metadata": {},
   "source": [
    "### ROUTE"
   ]
  },
  {
   "cell_type": "markdown",
   "metadata": {},
   "source": [
    "***Copying files***"
   ]
  },
  {
   "cell_type": "code",
   "execution_count": 17,
   "metadata": {},
   "outputs": [],
   "source": [
    "kayak_route_df = data_kayak_route.copy()\n",
    "kayak_all_data_df = all_data.copy()"
   ]
  },
  {
   "cell_type": "markdown",
   "metadata": {},
   "source": [
    "***Fuctions***"
   ]
  },
  {
   "cell_type": "code",
   "execution_count": 18,
   "metadata": {},
   "outputs": [],
   "source": [
    "# Thanks to the \"dic_city\" dictionary, we transform the name airport into the name of the city\n",
    "def FIND_CITY(airport: str):\n",
    "    \"\"\" Documentation\n",
    "    Parameters :\n",
    "        airport : name or code of aeroport    \n",
    "\n",
    "    Out (if exists) :\n",
    "        city : name of a city   \n",
    "\n",
    "    Runtime :\n",
    "        770 ns ± 31.9 ns per loop (mean ± std. dev. of 7 runs, 1000000 loops each)\n",
    "    \"\"\"\n",
    "\n",
    "    if '(' and ')' in airport:\n",
    "        airport = airport[airport.find('(')+1:airport.find(')')]\n",
    "\n",
    "        if len(airport) == 3 and airport in dic_city.keys():\n",
    "            city = dic_city[airport.upper()]\n",
    "\n",
    "        else:\n",
    "            city = 'unknown'\n",
    "\n",
    "    if len(airport) == 3 and airport in dic_city.keys():\n",
    "        city = dic_city[airport.upper()]\n",
    "\n",
    "    elif len(airport) == 3:\n",
    "        city = 'unknown'\n",
    "\n",
    "    else:\n",
    "        city = airport\n",
    "    city = unicodedata.normalize(\n",
    "        'NFKD', city.lower()).encode('ascii', 'ignore')\n",
    "    return city"
   ]
  },
  {
   "cell_type": "markdown",
   "metadata": {},
   "source": [
    "***Dictionnary***"
   ]
  },
  {
   "cell_type": "code",
   "execution_count": 19,
   "metadata": {},
   "outputs": [
    {
     "name": "stderr",
     "output_type": "stream",
     "text": [
      "100%|██████████| 163171/163171 [00:02<00:00, 62261.11it/s]\n",
      "100%|██████████| 163171/163171 [00:02<00:00, 76772.71it/s]\n"
     ]
    }
   ],
   "source": [
    "# Dictionnary with all cities and code\n",
    "dic_city = {}\n",
    "\n",
    "origine = kayak_route_df['Origine']\n",
    "origine_code = kayak_route_df['Origine Code']\n",
    "destination = kayak_route_df['Destination']\n",
    "destination_code = kayak_route_df['Destination Code']\n",
    "\n",
    "for i in tqdm(range(0, origine.size)):\n",
    "    if (not origine_code[i].upper() in dic_city):\n",
    "        dic_city[origine_code[i].upper()] = origine[i]\n",
    "\n",
    "for i in tqdm(range(0, destination.size)):\n",
    "    if (not destination_code[i].upper() in dic_city):\n",
    "        dic_city[destination_code[i].upper()] = destination[i]"
   ]
  },
  {
   "cell_type": "markdown",
   "metadata": {},
   "source": [
    "***Program***"
   ]
  },
  {
   "cell_type": "code",
   "execution_count": 20,
   "metadata": {},
   "outputs": [
    {
     "name": "stderr",
     "output_type": "stream",
     "text": [
      "100%|██████████| 61759/61759 [00:00<00:00, 109551.99it/s]\n"
     ]
    }
   ],
   "source": [
    "# Separate stages of the journey\n",
    "# (ex : 'Pristina to Zürich via Ljubliana' -> origine: 'Pristina', destination: 'Zürich', via: 'Ljubliana')\n",
    "\n",
    "list_route = kayak_all_data_df['Route']\n",
    "list_route = list_route.dropna()\n",
    "to_insert_in_route = pd.DataFrame(columns=['origine', 'destination', 'via'])\n",
    "l_dep = [None]\n",
    "l_arr = [None]\n",
    "l_via = [None]\n",
    "\n",
    "for route in tqdm(list_route):\n",
    "    l_dep.append(FIND_CITY(route[:route.find(\" to\")]))\n",
    "\n",
    "    if (route.find(\"via\") != -1):\n",
    "        l_arr.append(FIND_CITY(route[route.find(\" to\")+4:route.find(\" via\")]))\n",
    "        l_via.append(FIND_CITY(route[route.find(\" via\")+5:]))\n",
    "    else:\n",
    "        l_arr.append(FIND_CITY(route[route.find(\" to\")+4:]))\n",
    "        l_via.append(None)\n",
    "\n",
    "to_insert_in_route['origine'] = l_dep\n",
    "to_insert_in_route['destination'] = l_arr\n",
    "to_insert_in_route['via'] = l_via\n",
    "\n",
    "to_insert_in_route = to_insert_in_route.drop_duplicates()"
   ]
  },
  {
   "cell_type": "markdown",
   "metadata": {},
   "source": [
    "***Insertion in the database***"
   ]
  },
  {
   "cell_type": "code",
   "execution_count": 21,
   "metadata": {},
   "outputs": [
    {
     "name": "stderr",
     "output_type": "stream",
     "text": [
      "100%|██████████| 33616/33616 [00:21<00:00, 1544.39it/s]\n"
     ]
    }
   ],
   "source": [
    "# We insert the values of \"to_insert_in_route\" dataframe in the \"ROUTE\" table thanks to the \"mycursor\" cursor established at the beginning of the Notebook\n",
    "sql_request_route = \"INSERT INTO ROUTE (origine, destination, via) VALUES (%s, %s, %s)\"\n",
    "\n",
    "for i in tqdm(range(0, to_insert_in_route.shape[0])):\n",
    "    line = list(to_insert_in_route.iloc[i, :])\n",
    "    values_route = (line[0], line[1], line[2])\n",
    "    mycursor.execute(sql_request_route, values_route)\n",
    "\n",
    "mydb.commit()"
   ]
  },
  {
   "cell_type": "markdown",
   "metadata": {},
   "source": [
    "###  SERVICE"
   ]
  },
  {
   "cell_type": "markdown",
   "metadata": {},
   "source": [
    "***Copying the file***"
   ]
  },
  {
   "cell_type": "code",
   "execution_count": 22,
   "metadata": {},
   "outputs": [],
   "source": [
    "fieldnames_service = ['Category', 'Category_Detail']\n",
    "to_insert_in_service = all_data[fieldnames_service].drop_duplicates().replace({\n",
    "    pd.np.nan: None})"
   ]
  },
  {
   "cell_type": "markdown",
   "metadata": {},
   "source": [
    "***Insertion in the database***"
   ]
  },
  {
   "cell_type": "code",
   "execution_count": 23,
   "metadata": {},
   "outputs": [
    {
     "name": "stderr",
     "output_type": "stream",
     "text": [
      "100%|██████████| 2609/2609 [00:01<00:00, 2031.75it/s]\n"
     ]
    }
   ],
   "source": [
    "# We insert the values of \"to_insert_in_service\" dataframe in the \"SERVICE\" table thanks to the \"mycursor\" cursor established at the beginning of the Notebook\n",
    "sql_request_service = \"INSERT INTO SERVICE (type_service, desc_service) VALUES (%s, %s)\"\n",
    "\n",
    "for i in tqdm(range(len(to_insert_in_service))):\n",
    "    values_service = (\n",
    "        to_insert_in_service.iloc[i, 0], to_insert_in_service.iloc[i, 1])\n",
    "    mycursor.execute(sql_request_service, values_service)\n",
    "mydb.commit()"
   ]
  },
  {
   "cell_type": "markdown",
   "metadata": {},
   "source": [
    "### PASSENGER"
   ]
  },
  {
   "cell_type": "markdown",
   "metadata": {},
   "source": [
    "***Copying the file***"
   ]
  },
  {
   "cell_type": "code",
   "execution_count": 24,
   "metadata": {},
   "outputs": [],
   "source": [
    "passenger_df = all_data.copy()"
   ]
  },
  {
   "cell_type": "code",
   "execution_count": 25,
   "metadata": {},
   "outputs": [],
   "source": [
    "fieldnames_passenger = ['Type_Of_Lounge', 'Type_Of_Traveller']\n",
    "to_insert_in_passenger = passenger_df[fieldnames_passenger].drop_duplicates().replace(\n",
    "    regex=[\"Type Of Lounge \", \" : \\r\\n : N/A :\"], value=\"\").replace({pd.np.nan: None})"
   ]
  },
  {
   "cell_type": "markdown",
   "metadata": {},
   "source": [
    "***Insertion in the database***"
   ]
  },
  {
   "cell_type": "code",
   "execution_count": 26,
   "metadata": {},
   "outputs": [
    {
     "name": "stderr",
     "output_type": "stream",
     "text": [
      "100%|██████████| 12/12 [00:00<00:00, 267.32it/s]\n"
     ]
    }
   ],
   "source": [
    "# We insert the values of \"to_insert_in_passenger\" dataframe in the \"PASSENGER\" table thanks to the \"mycursor\" cursor established at the beginning of the Notebook\n",
    "sql_request_passenger = \"INSERT INTO PASSENGER (type_of_lounge, type_of_traveller) VALUES (%s, %s)\"\n",
    "\n",
    "for i in tqdm(range(len(to_insert_in_passenger))):\n",
    "    values_passenger = (\n",
    "        to_insert_in_passenger.iloc[i, 0], to_insert_in_passenger.iloc[i, 1])\n",
    "    mycursor.execute(sql_request_passenger, values_passenger)\n",
    "mydb.commit()"
   ]
  },
  {
   "cell_type": "markdown",
   "metadata": {},
   "source": [
    "### SEAT"
   ]
  },
  {
   "cell_type": "markdown",
   "metadata": {},
   "source": [
    "***Copying the file***"
   ]
  },
  {
   "cell_type": "code",
   "execution_count": 27,
   "metadata": {},
   "outputs": [],
   "source": [
    "seat_df = seat_info.copy()"
   ]
  },
  {
   "cell_type": "markdown",
   "metadata": {},
   "source": [
    "***Delete columns***"
   ]
  },
  {
   "cell_type": "code",
   "execution_count": 28,
   "metadata": {},
   "outputs": [],
   "source": [
    "del seat_df[\"Data_Source\"]\n",
    "del seat_df[\"Seat_Class\"]\n",
    "del seat_df[\"Rating\"]"
   ]
  },
  {
   "cell_type": "markdown",
   "metadata": {},
   "source": [
    "***Function***"
   ]
  },
  {
   "cell_type": "code",
   "execution_count": 29,
   "metadata": {},
   "outputs": [],
   "source": [
    "# Extract the name of the manufacturer from the name of the aircraft\n",
    "def NAME_MANUFACTURER(var: str):\n",
    "    \"\"\" Documentation\n",
    "    Parameters :\n",
    "        var : name of the aircraft    \n",
    "\n",
    "    Out (if exists) :\n",
    "        name of the manufacturer    \n",
    "\n",
    "    Runtime :\n",
    "        392 ns ± 11 ns per loop (mean ± std. dev. of 7 runs, 1000000 loops each)\n",
    "    \"\"\"\n",
    "    list_construct = ['Canadair', 'Dash', 'CRJ',  # Bombardier\n",
    "                      'ERJ',  # Embraer\n",
    "                      'irbus', 'boeing',\n",
    "                      'Sukhoi', 'Tupolev', 'Ilyushin', 'Yakovlev', 'Beech', 'Avro', 'Aerospatiale', 'Airbus', 'Aircraft Industries - Let', 'Antonov', 'ATR', 'BAE SYSTEMS (Avro)', 'BAE SYSTEMS (BAC)', 'BAE SYSTEMS (HS)', 'Boeing', 'Boeing (McDonnell-Douglas)', 'Bombardier (Canadair)', 'Bombardier (de Havilland)', 'Bombardier (Shorts)', 'Britten-Norman Aircraft Ltd,' 'Canadian Vickers', 'COMAC', 'Embraer', 'Fairchild (Swearingen)', 'Fairchild Dornier GmbH', 'Fairchild-Hiller Corp', 'Fokker', 'General Dynamics Corp', 'Handley Page', 'Hawker Beechcraft Corp', 'Lockheed Aircraft Corp', 'Saab Aircraft AB', 'United Aircraft Corporation (Ilyushin)', 'United Aircraft Corporation (Sukhoi)', 'United Aircraft Corporation (Tupolev)', 'United Aircraft Corporation (Yakovlev)', 'Bombardier']\n",
    "\n",
    "    for c in list_construct:\n",
    "        if c in var:\n",
    "            if c in ['Canadair', 'Dash', 'CRJ']:\n",
    "                return 'Bombardier'\n",
    "            elif c in ['ERJ']:\n",
    "                return 'Embraer'\n",
    "            elif c in ['irbus']:\n",
    "                return 'Airbus'\n",
    "            elif c in ['boeing']:\n",
    "                return 'Boeing'\n",
    "            else:\n",
    "                return c\n",
    "    return None"
   ]
  },
  {
   "cell_type": "markdown",
   "metadata": {},
   "source": [
    "***List***"
   ]
  },
  {
   "cell_type": "code",
   "execution_count": 30,
   "metadata": {},
   "outputs": [],
   "source": [
    "# Orgenising data in order\n",
    "to_insert_in_seat = seat_df[['Airline_name', 'Aircraft_Type', 'Category', 'Seat_Type', 'Seat_Position', 'Flight_Type', 'Count', 'Total_seat', 'Recline', 'Premium', 'Pitch_minimum',\n",
    "                             'Pitch_maximum', 'Width', 'Bedlength_maximum', 'Bedlength_minimum', 'Music', 'VideoType', 'Power_available', 'Power_kind', 'Usb_available', 'Usb_kind']]"
   ]
  },
  {
   "cell_type": "markdown",
   "metadata": {},
   "source": [
    "***Program***"
   ]
  },
  {
   "cell_type": "code",
   "execution_count": 31,
   "metadata": {},
   "outputs": [
    {
     "name": "stderr",
     "output_type": "stream",
     "text": [
      "100%|██████████| 10330/10330 [00:01<00:00, 8516.23it/s]\n"
     ]
    }
   ],
   "source": [
    "# Means of \"Width\" if there are 2 values\n",
    "# (ex Width : 18-20 -> Width : 19 )\n",
    "\n",
    "tempo = to_insert_in_seat[['Width']].copy()\n",
    "for l in tqdm(range(tempo.shape[0])):\n",
    "    case = str(tempo.iloc[l, 0]).replace(\" \", \"\").replace(\"in\", \"\").split(\"-\")\n",
    "    if len(case) == 2:\n",
    "        tempo.iloc[l, 0] = (float(case[0]) + float(case[1])) / 2\n",
    "to_insert_in_seat[['Width']] = tempo"
   ]
  },
  {
   "cell_type": "code",
   "execution_count": 32,
   "metadata": {},
   "outputs": [],
   "source": [
    "to_insert_in_seat = to_insert_in_seat.drop_duplicates()"
   ]
  },
  {
   "cell_type": "code",
   "execution_count": 33,
   "metadata": {},
   "outputs": [
    {
     "name": "stderr",
     "output_type": "stream",
     "text": [
      "100%|██████████| 19/19 [00:00<00:00, 80.03it/s]\n"
     ]
    }
   ],
   "source": [
    "# Put all data in lower\n",
    "for col in tqdm(range(2, to_insert_in_seat.shape[1])):\n",
    "    to_insert_in_seat.iloc[:, col] = to_insert_in_seat.iloc[:, col].apply(\n",
    "        lambda x: x.lower() if type(x) is str else x)"
   ]
  },
  {
   "cell_type": "code",
   "execution_count": 34,
   "metadata": {},
   "outputs": [],
   "source": [
    "to_insert_in_seat = to_insert_in_seat.replace(\n",
    "    {pd.np.nan: None, 'NaN': None, 'nan': None, 'none': None})"
   ]
  },
  {
   "cell_type": "code",
   "execution_count": 35,
   "metadata": {},
   "outputs": [],
   "source": [
    "# Thanks to the \"Aircrafact_Type\" column and the \"NAME_MANUFACTURER\" function, we create the \"Manufacturer_Name\" column\n",
    "to_insert_in_seat.insert(1, \"Manufacturer_Name\", None)\n",
    "to_insert_in_seat['Manufacturer_Name'] = to_insert_in_seat['Aircraft_Type'].apply(\n",
    "    NAME_MANUFACTURER)"
   ]
  },
  {
   "cell_type": "code",
   "execution_count": 36,
   "metadata": {},
   "outputs": [],
   "source": [
    "# We add a line made up of only zeros \n",
    "tempo = pd.DataFrame(np.array([[None, None, None, None, None, None, None, None, None, None, None, None,\n",
    "                             None, None, None, None, None, None, None, None, None, None]]), columns=list(to_insert_in_seat))\n",
    "to_insert_in_seat = pd.concat([to_insert_in_seat, tempo])"
   ]
  },
  {
   "cell_type": "code",
   "execution_count": 37,
   "metadata": {},
   "outputs": [],
   "source": [
    "to_insert_in_seat = to_insert_in_seat.drop_duplicates(\n",
    "    subset=['Airline_name', 'Aircraft_Type', 'Category', 'Seat_Position'])"
   ]
  },
  {
   "cell_type": "markdown",
   "metadata": {},
   "source": [
    "***Insertion in the database***"
   ]
  },
  {
   "cell_type": "code",
   "execution_count": 38,
   "metadata": {},
   "outputs": [
    {
     "name": "stderr",
     "output_type": "stream",
     "text": [
      "100%|██████████| 5502/5502 [00:05<00:00, 1050.19it/s]\n"
     ]
    }
   ],
   "source": [
    "# We insert the values of \"to_insert_in_seat\" dataframe in the \"SEAT\" table thanks to the \"mycursor\" cursor established at the beginning of the Notebook\n",
    "sql_request_seat = \"INSERT INTO SEAT (airline_name, manufacturer_name, aircraft_type, category,seat_type, seat_position, flight_type, count, total_seat, recline, premium, pitch_min, pitch_max, width, bedlength_max, bedlength_min, music,video_type, power_available, power_kind, usb_available, usb_kind) VALUES (%s, %s, %s, %s,%s, %s, %s,%s, %s, %s,%s, %s, %s,%s, %s, %s,%s, %s, %s,%s, %s, %s)\"\n",
    "\n",
    "for i in tqdm(range(len(to_insert_in_seat))):\n",
    "    values_seat = list(to_insert_in_seat.iloc[i, :])\n",
    "    if (values_seat[7] is not None):\n",
    "        values_seat[7] = int(values_seat[7])\n",
    "    if (values_seat[8] is not None):\n",
    "        values_seat[8] = int(values_seat[8])\n",
    "    mycursor.execute(sql_request_seat, values_seat)\n",
    "mydb.commit()"
   ]
  },
  {
   "cell_type": "markdown",
   "metadata": {},
   "source": [
    "### DATE"
   ]
  },
  {
   "cell_type": "markdown",
   "metadata": {},
   "source": [
    "***Functions***"
   ]
  },
  {
   "cell_type": "code",
   "execution_count": 39,
   "metadata": {},
   "outputs": [],
   "source": [
    "# Test if leap year\n",
    "def LEAP_YEAR(year: str):\n",
    "    \"\"\" Documentation\n",
    "    Parameters :\n",
    "        year: test if leap year    \n",
    "\n",
    "    Out (if exists) :\n",
    "        bissextile: boolean value    \n",
    "\n",
    "    Runtime :\n",
    "        188 ns ± 2.93 ns per loop (mean ± std. dev. of 7 runs, 10000000 loops each)\n",
    "    \"\"\"\n",
    "\n",
    "    # Initialize variable to false\n",
    "    bissextile = False\n",
    "\n",
    "    # If the year is divisible by 400\n",
    "    if year % 400 == 0:\n",
    "        bissextile = True\n",
    "    # If the year is divisible by 100\n",
    "    elif year % 100 == 0:\n",
    "        bissextile = False\n",
    "    # If the year is divisible by 4\n",
    "    elif year % 4 == 0:\n",
    "        bissextile = True\n",
    "\n",
    "    return bissextile"
   ]
  },
  {
   "cell_type": "code",
   "execution_count": 40,
   "metadata": {},
   "outputs": [],
   "source": [
    "# Insert the lines in the dataframe\n",
    "def INSERT_DAY_MONTH(df, month: str, year: str):\n",
    "    \"\"\" Documentation\n",
    "    Parameters :\n",
    "        month: List month or list leap month\n",
    "        year: test if leap year    \n",
    "\n",
    "    Out (if exists) :\n",
    "        (insert the lines in the dataframe)    \n",
    "\n",
    "    Runtime:\n",
    "        2.42 s ± 630 ms per loop (mean ± std. dev. of 7 runs, 1 loop each)\n",
    "     \"\"\"\n",
    "\n",
    "    # 12 months loop\n",
    "    for m in (range(12)):\n",
    "        # loop on the number of days in the month \"m\"\n",
    "        for d in range(month[m]+1):\n",
    "            # MONTH\n",
    "            if m < 9:\n",
    "                val_month = '0'+str(m+1)\n",
    "            else:\n",
    "                val_month = str(m+1)\n",
    "            # DAY\n",
    "            if d < 10:\n",
    "                val_day = '0'+str(d)\n",
    "            else:\n",
    "                # Insert variables \"day\", \"month\" and \"year\" in the dataframe\n",
    "                val_day = str(d)\n",
    "            df.loc[len(df)] = ['00', val_day, val_month, str(year)]\n",
    "            # Column \"id_date\": Concatenate the variables \"day\", \"month\" and \"year\"\n",
    "            df['id_date'] = df['day'].str.cat(df['month'].values.astype(\n",
    "                str)).str.cat(df['year'].values.astype(str))"
   ]
  },
  {
   "cell_type": "code",
   "execution_count": 41,
   "metadata": {},
   "outputs": [],
   "source": [
    "# Add a new year to the DataFrame\n",
    "def ADD_YEAR(df, year: list):\n",
    "    \"\"\" Documentation\n",
    "    Parameters :\n",
    "        year: year to add    \n",
    "\n",
    "    Out (if exists) :\n",
    "        (insert the new year in the dataframe)\n",
    "\n",
    "    Runtime:\n",
    "        for 1 year :\n",
    "        13.2 s ± 804 ms per loop (mean ± std. dev. of 7 runs, 1 loop each)\n",
    "    \"\"\"\n",
    "\n",
    "    # Loop on the year\n",
    "    for y in tqdm(year):\n",
    "        # Initialize variable\n",
    "        list_month = month        # If the year is leap year\n",
    "        if LEAP_YEAR(y) == True:\n",
    "            list_month = leap_month        # Call the function \"INSERT_DAY_MONTH\"\n",
    "        INSERT_DAY_MONTH(df, list_month, y)"
   ]
  },
  {
   "cell_type": "markdown",
   "metadata": {},
   "source": [
    "***Lists***"
   ]
  },
  {
   "cell_type": "code",
   "execution_count": 42,
   "metadata": {},
   "outputs": [],
   "source": [
    "# List of the number of days in a month\n",
    "month = [31, 28, 31, 30, 31, 30, 31, 31, 30, 31, 30, 31]\n",
    "leap_month = [31, 29, 31, 30, 31, 30, 31, 31, 30, 31, 30, 31]"
   ]
  },
  {
   "cell_type": "markdown",
   "metadata": {},
   "source": [
    "***Program***"
   ]
  },
  {
   "cell_type": "code",
   "execution_count": 43,
   "metadata": {},
   "outputs": [],
   "source": [
    "# Create the dataframe \"df\"\n",
    "to_insert_in_date = pd.DataFrame(columns=['id_date', 'day', 'month', 'year'])"
   ]
  },
  {
   "cell_type": "code",
   "execution_count": 44,
   "metadata": {},
   "outputs": [],
   "source": [
    "# Create the line \"None\"\n",
    "to_insert_in_date = pd.DataFrame(np.array([[\"99999999\", \"99\", \"99\", \"9999\"]]), columns=[\n",
    "    \"id_date\", \"day\", \"month\", \"year\"]).append(to_insert_in_date, ignore_index=True)"
   ]
  },
  {
   "cell_type": "code",
   "execution_count": 45,
   "metadata": {},
   "outputs": [],
   "source": [
    "# YEAR of 1999 to 2020\n",
    "year = list(range(1999, 2021))\n",
    "# year = [2021]  # <- (!) Change item (for 1 year)"
   ]
  },
  {
   "cell_type": "code",
   "execution_count": 46,
   "metadata": {},
   "outputs": [
    {
     "name": "stderr",
     "output_type": "stream",
     "text": [
      "100%|██████████| 22/22 [02:39<00:00, 12.14s/it]\n"
     ]
    }
   ],
   "source": [
    "# Call the function \"add_year\"\n",
    "ADD_YEAR(to_insert_in_date, year)"
   ]
  },
  {
   "cell_type": "markdown",
   "metadata": {},
   "source": [
    "***Insertion in the database***"
   ]
  },
  {
   "cell_type": "code",
   "execution_count": 47,
   "metadata": {},
   "outputs": [
    {
     "name": "stderr",
     "output_type": "stream",
     "text": [
      "100%|██████████| 8301/8301 [00:05<00:00, 1582.90it/s]\n"
     ]
    }
   ],
   "source": [
    "# We insert the values of \"to_insert_in_date\" dataframe in the \"DATE\" table thanks to the \"mycursor\" cursor established at the beginning of the Notebook\n",
    "sql_request_date = \"INSERT INTO DATE VALUES (%s, %s, %s, %s)\"\n",
    "for i in tqdm(range(len(to_insert_in_date))):\n",
    "    values_date = list(to_insert_in_date.iloc[i, :])\n",
    "    mycursor.execute(sql_request_date, values_date)\n",
    "mydb.commit()"
   ]
  },
  {
   "cell_type": "markdown",
   "metadata": {},
   "source": [
    "## Fact table : NOTES"
   ]
  },
  {
   "cell_type": "markdown",
   "metadata": {},
   "source": [
    "***Copying the file***"
   ]
  },
  {
   "cell_type": "code",
   "execution_count": 48,
   "metadata": {},
   "outputs": [],
   "source": [
    "to_insert_in_note = all_data.copy()"
   ]
  },
  {
   "cell_type": "code",
   "execution_count": 49,
   "metadata": {},
   "outputs": [],
   "source": [
    "to_insert_in_note = to_insert_in_note.replace({pd.np.nan: None})"
   ]
  },
  {
   "cell_type": "markdown",
   "metadata": {},
   "source": [
    "### Service"
   ]
  },
  {
   "cell_type": "code",
   "execution_count": 50,
   "metadata": {},
   "outputs": [],
   "source": [
    "# We realize a join (thanks to the Python function \"merge\") in order to link the \"SERVICE\" table to the \"NOTES\" table\n",
    "sql_request_notes_service = \"SELECT id_service, type_service, desc_service FROM SERVICE\"\n",
    "mycursor.execute(sql_request_notes_service)\n",
    "notes_service = mycursor.fetchall()\n",
    "\n",
    "\n",
    "tempo = pd.DataFrame(notes_service, columns=[\n",
    "                     'id_service', 'Category', 'Category_Detail'])\n",
    "to_insert_in_note = pd.merge(to_insert_in_note, tempo, on=[\n",
    "                             'Category', 'Category_Detail'])"
   ]
  },
  {
   "cell_type": "markdown",
   "metadata": {},
   "source": [
    "### Passenger"
   ]
  },
  {
   "cell_type": "code",
   "execution_count": 51,
   "metadata": {},
   "outputs": [],
   "source": [
    "# We improve the \"Type_Of_Lounge\" column in order that the data is comparable with that in the database\n",
    "to_insert_in_note['Type_Of_Lounge'] = to_insert_in_note['Type_Of_Lounge'].replace(\n",
    "    regex=[\"Type Of Lounge \", \" : \\r\\n : N/A :\"], value=\"\")"
   ]
  },
  {
   "cell_type": "code",
   "execution_count": 52,
   "metadata": {},
   "outputs": [],
   "source": [
    "# We realize a join (thanks to the Python function \"merge\") in order to link the \"PASSENGER\" table to the \"NOTES\" table \n",
    "sql_request_notes_passenger = \"SELECT id_passenger, type_of_lounge, type_of_traveller FROM PASSENGER\"\n",
    "mycursor.execute(sql_request_notes_passenger)\n",
    "notes_passenger = mycursor.fetchall()\n",
    "\n",
    "tempo = pd.DataFrame(notes_passenger, columns=[\n",
    "                     'id_passenger', 'Type_Of_Lounge', 'Type_Of_Traveller'])\n",
    "to_insert_in_note = pd.merge(to_insert_in_note, tempo, on=[\n",
    "                             'Type_Of_Lounge', 'Type_Of_Traveller'])"
   ]
  },
  {
   "cell_type": "markdown",
   "metadata": {},
   "source": [
    "### Route"
   ]
  },
  {
   "cell_type": "code",
   "execution_count": 53,
   "metadata": {},
   "outputs": [],
   "source": [
    "# Separate stages of the journey\n",
    "# (ex: 'Pristina to Zürich via Ljubliana' -> origine: 'Pristina', destination: 'Zürich', via: 'Ljubliana')\n",
    "\n",
    "list_route = kayak_all_data_df['Route']\n",
    "route_df = pd.DataFrame(columns=['origine', 'destination', 'via'])\n",
    "l_dep = []\n",
    "l_arr = []\n",
    "l_via = []\n",
    "\n",
    "for route in list_route:\n",
    "    if type(route) == str:\n",
    "        if (route.find(\"via\") != -1):\n",
    "            l_dep.append(FIND_CITY(route[:route.find(\" to\")]))\n",
    "            l_arr.append(\n",
    "                FIND_CITY(route[route.find(\" to\")+4:route.find(\" via\")]))\n",
    "            l_via.append(FIND_CITY(route[route.find(\" via\")+5:]))\n",
    "        else:\n",
    "            l_dep.append(FIND_CITY(route[:route.find(\" to\")]))\n",
    "            l_arr.append(FIND_CITY(route[route.find(\" to\")+4:]))\n",
    "            l_via.append(None)\n",
    "    else:\n",
    "        l_dep.append(None)\n",
    "        l_arr.append(None)\n",
    "        l_via.append(None)\n",
    "\n",
    "\n",
    "route_df['origine'] = l_dep\n",
    "route_df['destination'] = l_arr\n",
    "route_df['via'] = l_via"
   ]
  },
  {
   "cell_type": "code",
   "execution_count": 54,
   "metadata": {},
   "outputs": [],
   "source": [
    "# We gather \"to_insert_in_note\" and \"route_df\" dataframes\n",
    "to_insert_in_note = pd.concat([to_insert_in_note, route_df], axis=1)"
   ]
  },
  {
   "cell_type": "code",
   "execution_count": 55,
   "metadata": {},
   "outputs": [],
   "source": [
    "# We improve these columns in order that the data is comparable with that in the database\n",
    "to_insert_in_note['origine'] = to_insert_in_note['origine'].apply(\n",
    "    lambda x: str(x)[2:-1] if x is not None else x)\n",
    "to_insert_in_note['destination'] = to_insert_in_note['destination'].apply(\n",
    "    lambda x: str(x)[2:-1] if x is not None else x)\n",
    "to_insert_in_note['via'] = to_insert_in_note['via'].apply(\n",
    "    lambda x: str(x)[2:-1] if x is not None else x)"
   ]
  },
  {
   "cell_type": "code",
   "execution_count": 56,
   "metadata": {},
   "outputs": [],
   "source": [
    "# We realize a join (thanks to the Python function \"merge\") in order to link the \"ROUTE\" table to the \"NOTES\" table\n",
    "sql_request_notes_route = \"SELECT id_route, origine, destination, via FROM ROUTE\"\n",
    "mycursor.execute(sql_request_notes_route)\n",
    "notes_route = mycursor.fetchall()\n",
    "\n",
    "tempo = pd.DataFrame(notes_route, columns=[\n",
    "                     'id_route', 'origine', 'destination', 'via'])\n",
    "to_insert_in_note = pd.merge(to_insert_in_note, tempo, on=[\n",
    "                             'origine', 'destination', 'via'])"
   ]
  },
  {
   "cell_type": "markdown",
   "metadata": {},
   "source": [
    "### Date"
   ]
  },
  {
   "cell_type": "markdown",
   "metadata": {},
   "source": [
    "***Functions***"
   ]
  },
  {
   "cell_type": "code",
   "execution_count": 57,
   "metadata": {},
   "outputs": [],
   "source": [
    "# Put all dates in the same format (id_date -> '00012019')\n",
    "def ID_DATE(nb: int):\n",
    "    \"\"\" Documentation\n",
    "    Parameters :\n",
    "        nb: element of the \"all_data\" table    \n",
    "\n",
    "    Out (if exists) :\n",
    "        new_nb: date in the correct format    \n",
    "\n",
    "    Runtime:\n",
    "        660 ns ± 12.3 ns per loop (mean ± std. dev. of 7 runs, 1000000 loops each)\n",
    "    \"\"\"\n",
    "\n",
    "    # Initialize variable\n",
    "    new_nb = nb\n",
    "\n",
    "    # If the length is 6\n",
    "    if len(str(nb)) == 6:\n",
    "        new_nb = \"00\"+new_nb\n",
    "    # If the length is 7\n",
    "    if len(str(nb)) == 7:\n",
    "        new_nb = \"0\"+new_nb\n",
    "\n",
    "    # If the type is str\n",
    "    if type(nb) == str:\n",
    "        # If the 5th character is '-' or '/' (ex : '2019-01-01')\n",
    "        if nb[4] == '-' or nb[4] == '/':\n",
    "            year = nb[:4]\n",
    "            month = nb[5:7]\n",
    "            day = nb[8:10]\n",
    "            new_nb = str(day+month+year)\n",
    "\n",
    "    return new_nb"
   ]
  },
  {
   "cell_type": "code",
   "execution_count": 58,
   "metadata": {},
   "outputs": [],
   "source": [
    "# Replace items for 3 columns\n",
    "def DATE(before: list, after: list):\n",
    "    \"\"\" Documentation\n",
    "    Parameters :\n",
    "        before: list of items to be replaced\n",
    "        after: list of items that will replace    \n",
    "\n",
    "    Out (if exists) :\n",
    "        all_data[['Date_Visit', 'Date_Flown', 'Date_Review']] : 3 columns of the dataframe    \n",
    "\n",
    "    Runtime:\n",
    "        3.46 s ± 253 ms per loop (mean ± std. dev. of 7 runs, 1 loop each)\n",
    "    \"\"\"\n",
    "\n",
    "    # Loop on the lists (\"before\" and \"after\")\n",
    "    for i in tqdm(range(len(before))):\n",
    "        to_insert_in_note[['Date_Visit', 'Date_Flown']] = to_insert_in_note[[\n",
    "            'Date_Visit', 'Date_Flown']].replace(regex=[before[i]], value=after[i])\n",
    "    return to_insert_in_note[['Date_Visit', 'Date_Flown']]"
   ]
  },
  {
   "cell_type": "markdown",
   "metadata": {},
   "source": [
    "***Program***"
   ]
  },
  {
   "cell_type": "code",
   "execution_count": 59,
   "metadata": {},
   "outputs": [],
   "source": [
    "# Lists for \"date\" function\n",
    "before = [\"1st January 1970\", \"January\\ \", \"February\\ \", \"March\\ \", \"April\\ \", \"May\\ \", \"June\\ \", \"July\\ \",\n",
    "          \"August\\ \", \"September\\ \", \"October\\ \", \"November\\ \", \"December\\ \", \"th\\ |st\\ |rd\\ |nd \", \"\\ \\d{2}\\:\\d{2}\\:\\d{2}\"]\n",
    "after = [\"99999999\", \"01\", \"02\", \"03\", \"04\", \"05\",\n",
    "         \"06\", \"07\", \"08\", \"09\", \"10\", \"11\", \"12\", \"\", \"\"]\n",
    "\n",
    "# List for loop, to apply the \"id_date\" function\n",
    "columns_date = [\"Date_Visit\", \"Date_Flown\"]"
   ]
  },
  {
   "cell_type": "code",
   "execution_count": 60,
   "metadata": {},
   "outputs": [
    {
     "name": "stderr",
     "output_type": "stream",
     "text": [
      "100%|██████████| 15/15 [00:07<00:00,  3.69it/s]\n"
     ]
    }
   ],
   "source": [
    "# Call the \"date\" function\n",
    "to_insert_in_note[['Date_Visit', 'Date_Flown']] = DATE(before, after)\n",
    "\n",
    "# Replace \"nan\" with \"99999999\"\n",
    "to_insert_in_note[['Date_Visit', 'Date_Flown']] = to_insert_in_note[[\n",
    "    'Date_Visit', 'Date_Flown']].replace({pd.np.nan: \"99999999\"})"
   ]
  },
  {
   "cell_type": "code",
   "execution_count": 61,
   "metadata": {},
   "outputs": [
    {
     "name": "stderr",
     "output_type": "stream",
     "text": [
      "100%|██████████| 2/2 [00:00<00:00,  2.60it/s]\n"
     ]
    }
   ],
   "source": [
    "# Loop for apply the \"id_date\" function on 3 columns\n",
    "for i in tqdm(range(len(columns_date))):\n",
    "    to_insert_in_note[columns_date[i]\n",
    "                      ] = to_insert_in_note[columns_date[i]].apply(ID_DATE)"
   ]
  },
  {
   "cell_type": "markdown",
   "metadata": {},
   "source": [
    "### Seat"
   ]
  },
  {
   "cell_type": "markdown",
   "metadata": {},
   "source": [
    "***Function***"
   ]
  },
  {
   "cell_type": "code",
   "execution_count": 62,
   "metadata": {},
   "outputs": [],
   "source": [
    "# Standardize aircraft names\n",
    "def TRANSFORM(aircraft: str):\n",
    "    \"\"\" Documentation\n",
    "    Parameters :\n",
    "        aircraft : name of the aircraft    \n",
    "\n",
    "    Out (if exists) :\n",
    "        aircraft : names transformed    \n",
    "\n",
    "    Runtime:\n",
    "        8.32 µs ± 365 ns per loop (mean ± std. dev. of 7 runs, 100000 loops each)\n",
    "    \"\"\"\n",
    "\n",
    "    aircraft = str(aircraft)\n",
    "    aircraft = aircraft.lower()\n",
    "    aircraft = re.sub(\"(\\s|-)\", \"\", aircraft)\n",
    "    aircraft = aircraft.replace('embraer', 'e')\n",
    "    aircraft = aircraft.replace('ee', 'e')\n",
    "    aircraft = aircraft.replace('airbus', 'a')\n",
    "    aircraft = aircraft.replace('aa', 'a')\n",
    "    aircraft = aircraft.replace('boeing', 'b')\n",
    "    aircraft = aircraft.replace('bb', 'b')\n",
    "    aircraft = re.sub(\"v[0-9].*$\", \"\", aircraft)\n",
    "    aircraft = re.sub(\".+?(?=[a-z]{1}[0-9]{1,})\", '', aircraft)\n",
    "    aircraft = re.sub(\"(\\().*$\", \"\", aircraft)\n",
    "\n",
    "    return(aircraft)"
   ]
  },
  {
   "cell_type": "code",
   "execution_count": 63,
   "metadata": {},
   "outputs": [],
   "source": [
    "# Thanks to the \"dict_class\" dictionary, we determine the class of the seat\n",
    "def FIND_CLASS(class_seat: str):\n",
    "    \"\"\" Documentation\n",
    "    Parameters :\n",
    "        class_seat : name of the class of the seat of the \"all_data\" file    \n",
    "\n",
    "    Out (if exists) :\n",
    "        class_seat : name of the class    \n",
    "\n",
    "    Runtime:\n",
    "        279 ns ± 18.8 ns per loop (mean ± std. dev. of 7 runs, 1000000 loops each)\n",
    "    \"\"\"\n",
    "    try:\n",
    "        class_seat = dict_class[class_seat]\n",
    "    except:\n",
    "        class_seat = None\n",
    "    return class_seat"
   ]
  },
  {
   "cell_type": "markdown",
   "metadata": {},
   "source": [
    "***Dictionary***"
   ]
  },
  {
   "cell_type": "code",
   "execution_count": 64,
   "metadata": {},
   "outputs": [],
   "source": [
    "dict_class = {'Economy Class': 'economy',\n",
    "              'Economy Comfort': 'economy',\n",
    "              'Economy Privilege': 'economy',\n",
    "              'Business Class': 'business',\n",
    "              'Premium Class': 'premium',\n",
    "              'Premium Economy': 'premium',\n",
    "              'Premium': 'premium',\n",
    "              'First Class': 'first'}"
   ]
  },
  {
   "cell_type": "markdown",
   "metadata": {},
   "source": [
    "***Program***"
   ]
  },
  {
   "cell_type": "code",
   "execution_count": 65,
   "metadata": {},
   "outputs": [],
   "source": [
    "sql_request_notes_seat = \"SELECT id_seat, airline_name, aircraft_type, category, seat_position FROM SEAT\"\n",
    "\n",
    "mycursor.execute(sql_request_notes_seat)\n",
    "notes_seat = mycursor.fetchall()"
   ]
  },
  {
   "cell_type": "code",
   "execution_count": 66,
   "metadata": {},
   "outputs": [],
   "source": [
    "notes_seat = pd.DataFrame(notes_seat, columns=[\n",
    "                          'id_seat', 'Airline_Name', 'Aircraft_Type', 'Cabin_Class', 'Seat_Position'])"
   ]
  },
  {
   "cell_type": "code",
   "execution_count": 67,
   "metadata": {},
   "outputs": [],
   "source": [
    "# Thanks to the \"TRANSFORM\" function, the aircraft types are standardized\n",
    "to_insert_in_note['Aircraft_Type'] = to_insert_in_note['Aircraft_Type'].apply(\n",
    "    lambda x: TRANSFORM(x))\n",
    "notes_seat['Aircraft_Type'] = notes_seat['Aircraft_Type'].apply(\n",
    "    lambda x: TRANSFORM(x))"
   ]
  },
  {
   "cell_type": "code",
   "execution_count": 68,
   "metadata": {},
   "outputs": [],
   "source": [
    "# Thanks to the \"FIND_CLASS\" function, the class of seat is with that in the database\n",
    "to_insert_in_note['Cabin_Class'] = to_insert_in_note['Cabin_Class'].apply(\n",
    "    lambda x: FIND_CLASS(x))\n",
    "to_insert_in_note['Seat_Position'] = 'normal'\n",
    "notes_seat = notes_seat.drop_duplicates(\n",
    "    subset=['Airline_Name', 'Aircraft_Type', 'Cabin_Class', 'Seat_Position'])"
   ]
  },
  {
   "cell_type": "code",
   "execution_count": 69,
   "metadata": {},
   "outputs": [],
   "source": [
    "# We realize a join (thanks to the Python function \"merge\") in order to link the \"SEAT\" table to the \"NOTES\" table \n",
    "to_insert_in_note = pd.merge(to_insert_in_note, notes_seat, on=[\n",
    "                             'Airline_Name', 'Aircraft_Type', 'Cabin_Class', 'Seat_Position'], how='left')"
   ]
  },
  {
   "cell_type": "code",
   "execution_count": 70,
   "metadata": {},
   "outputs": [],
   "source": [
    "to_insert_in_note['id_seat'] = to_insert_in_note['id_seat'].replace({\n",
    "                                                                    pd.np.nan: None})"
   ]
  },
  {
   "cell_type": "code",
   "execution_count": 71,
   "metadata": {},
   "outputs": [],
   "source": [
    "# We don't want null foreign keys, so we replace \"None\" with the \"id_seat\" having \"None\" values in the \"Seat\" table\n",
    "sql_request_null_seat = \"SELECT id_seat FROM SEAT WHERE airline_name IS NULL AND aircraft_type IS NULL AND category IS NULL AND seat_position IS NULL\"\n",
    "\n",
    "mycursor.execute(sql_request_null_seat)\n",
    "null_seat = mycursor.fetchall()\n",
    "index_null = null_seat[0][0]\n",
    "\n",
    "to_insert_in_note['id_seat'] = to_insert_in_note['id_seat'].apply(\n",
    "    lambda x: int(index_null) if x is None else int(x))"
   ]
  },
  {
   "cell_type": "markdown",
   "metadata": {},
   "source": [
    "### Airline"
   ]
  },
  {
   "cell_type": "code",
   "execution_count": 72,
   "metadata": {},
   "outputs": [],
   "source": [
    "# We improve the \"Airline_Name\" column in order that the data is comparable with that in the database\n",
    "to_insert_in_note['Airline_Name'] = to_insert_in_note['Airline_Name'].apply(lambda x: str(\n",
    "    unicodedata.normalize('NFKD', x.lower()).encode('ascii', 'ignore'))[2:-1] if x is not None else x)"
   ]
  },
  {
   "cell_type": "markdown",
   "metadata": {},
   "source": [
    "### Deletion "
   ]
  },
  {
   "cell_type": "code",
   "execution_count": 73,
   "metadata": {},
   "outputs": [],
   "source": [
    "def delete(dataframe, columns_to_delete):\n",
    "    for i in columns_to_delete:\n",
    "        del dataframe[i]"
   ]
  },
  {
   "cell_type": "code",
   "execution_count": 74,
   "metadata": {},
   "outputs": [],
   "source": [
    "# We delete the columns of \"All_Data\" which are in excess\n",
    "columns_to_delete = ['Data_Source', 'Airline_Type', 'Aircraft_Type', 'Region_Operation', 'Cabin_Class', 'Type_Of_Lounge', 'Date_Review',\n",
    "                     'Type_Of_Traveller', 'Airport', 'Route', 'Category', 'Category_Detail', 'Seat_Type', 'Review', 'Seat', 'origine', 'destination', 'via']"
   ]
  },
  {
   "cell_type": "code",
   "execution_count": 75,
   "metadata": {},
   "outputs": [],
   "source": [
    "delete(to_insert_in_note, columns_to_delete)"
   ]
  },
  {
   "cell_type": "markdown",
   "metadata": {},
   "source": [
    "### Modification of \"Overall_Customer_Rating\" parameter"
   ]
  },
  {
   "cell_type": "code",
   "execution_count": 76,
   "metadata": {},
   "outputs": [],
   "source": [
    "to_insert_in_note['Overall_Customer_Rating'] = to_insert_in_note['Overall_Customer_Rating'].replace({\n",
    "                                                                                                    'na': None})\n",
    "to_insert_in_note['Overall_Customer_Rating'] = to_insert_in_note['Overall_Customer_Rating'].str.replace(\n",
    "    ',', '.')"
   ]
  },
  {
   "cell_type": "markdown",
   "metadata": {},
   "source": [
    "### Columns reordering"
   ]
  },
  {
   "cell_type": "code",
   "execution_count": 77,
   "metadata": {},
   "outputs": [],
   "source": [
    "cols = ['Airline_Name', 'id_route', 'id_seat', 'Date_Visit', 'Date_Flown', 'id_passenger', 'id_service', 'Cabin_Staff_Service', 'Lounge_Staff_Service', 'Bar_And_Beverages', 'Food_And_Beverages', 'Ground_Service', 'Catering', 'Cleanliness', 'Lounge_Comfort', 'Aisle_Space',\n",
    "        'Wifi_And_Connectivity', 'Inflight_Entertainment', 'Viewing_Tv_Screen', 'Power_Supply', 'Seat_Comfort', 'Seat_Legroom', 'Seat_Storage', 'Seat_Recline', 'Seat_Width', 'Washrooms', 'Value_For_Money', 'Overall_Customer_Rating', 'Overall_Service_Rating', 'Overall_Airline_Rating', 'Recommended']\n",
    "to_insert_in_note = to_insert_in_note[cols]"
   ]
  },
  {
   "cell_type": "markdown",
   "metadata": {},
   "source": [
    "***Insertion in the database***"
   ]
  },
  {
   "cell_type": "code",
   "execution_count": 78,
   "metadata": {},
   "outputs": [
    {
     "name": "stderr",
     "output_type": "stream",
     "text": [
      "100%|██████████| 150453/150453 [01:49<00:00, 1377.24it/s]\n"
     ]
    }
   ],
   "source": [
    "# We insert the values of \"to_insert_in_note\" dataframe in the \"NOTES\" table thanks to the \"mycursor\" cursor established at the beginning of the Notebook\n",
    "sql_request_notes = \"INSERT INTO NOTES (`#airline_name`, `#id_route`, `#id_seat`, `#date_visit`, `#date_flown`, `#id_passenger`, `#id_service`, cabin_staff_service, lounge_staff_service, bar_and_beverages, food_and_beverages, ground_service, catering, cleanliness, lounge_comfort, aisle_space, wifi_and_connectivity, inflight_entertainment, viewing_tv_screen, power_supply, seat_comfort, seat_legroom, seat_storage, seat_recline, seat_width, washrooms, value_for_money, overall_customer_rating, overall_service_rating, overall_airline_rating, recommended) VALUES (%s, %s, %s, %s, %s, %s, %s, %s, %s, %s, %s, %s, %s, %s, %s, %s, %s, %s, %s, %s, %s, %s, %s, %s, %s, %s, %s, %s, %s, %s, %s)\"\n",
    "\n",
    "for i in tqdm(range(len(to_insert_in_note))):\n",
    "    values_notes = list(to_insert_in_note.iloc[i, :])\n",
    "    values_notes[1] = int(values_notes[1])\n",
    "    values_notes[2] = int(values_notes[2])\n",
    "    values_notes[5] = int(values_notes[5])\n",
    "    values_notes[6] = int(values_notes[6])\n",
    "\n",
    "    mycursor.execute(sql_request_notes, values_notes)\n",
    "\n",
    "mydb.commit()"
   ]
  },
  {
   "cell_type": "code",
   "execution_count": 79,
   "metadata": {},
   "outputs": [],
   "source": [
    "mydb.close()"
   ]
  },
  {
   "cell_type": "code",
   "execution_count": null,
   "metadata": {},
   "outputs": [],
   "source": []
  }
 ],
 "metadata": {
  "kernelspec": {
   "display_name": "Python 3",
   "language": "python",
   "name": "python3"
  },
  "language_info": {
   "codemirror_mode": {
    "name": "ipython",
    "version": 3
   },
   "file_extension": ".py",
   "mimetype": "text/x-python",
   "name": "python",
   "nbconvert_exporter": "python",
   "pygments_lexer": "ipython3",
   "version": "3.7.3"
  },
  "toc": {
   "base_numbering": 1,
   "nav_menu": {
    "height": "601.533px",
    "width": "303.767px"
   },
   "number_sections": true,
   "sideBar": false,
   "skip_h1_title": false,
   "title_cell": "Table of Contents",
   "title_sidebar": "Contents",
   "toc_cell": true,
   "toc_position": {
    "height": "736.783px",
    "left": "513px",
    "top": "300.483px",
    "width": "413.833px"
   },
   "toc_section_display": false,
   "toc_window_display": false
  }
 },
 "nbformat": 4,
 "nbformat_minor": 2
}
