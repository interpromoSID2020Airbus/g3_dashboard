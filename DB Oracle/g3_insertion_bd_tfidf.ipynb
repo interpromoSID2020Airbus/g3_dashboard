{
 "cells": [
  {
   "cell_type": "markdown",
   "metadata": {},
   "source": [
    "<h1> Groupe 3 - DashBoard\n",
    "    \n",
    "> Script Insertion BD (tfidf) Oracle Notebook\n",
    "\n",
    "<span class=\"tocSkip\"></span>\n",
    "\n",
    "> *Authors M2 : Quentin MARCU*\n",
    "\n",
    "</h1>"
   ]
  },
  {
   "cell_type": "markdown",
   "metadata": {
    "toc": true
   },
   "source": [
    "<h1>Table of Contents<span class=\"tocSkip\"></span></h1>\n",
    "<div class=\"toc\"><ul class=\"toc-item\"><li><span><a href=\"#Introduction\" data-toc-modified-id=\"Introduction-1\"><span class=\"toc-item-num\">1&nbsp;&nbsp;</span>Introduction</a></span></li><li><span><a href=\"#Insertion\" data-toc-modified-id=\"Insertion-2\"><span class=\"toc-item-num\">2&nbsp;&nbsp;</span>Insertion</a></span></li></ul></div>"
   ]
  },
  {
   "cell_type": "markdown",
   "metadata": {},
   "source": [
    "## Introduction"
   ]
  },
  {
   "cell_type": "code",
   "execution_count": 2,
   "metadata": {},
   "outputs": [],
   "source": [
    "# Introduction"
   ]
  },
  {
   "cell_type": "markdown",
   "metadata": {},
   "source": [
    "***Import***"
   ]
  },
  {
   "cell_type": "code",
   "execution_count": 1,
   "metadata": {},
   "outputs": [],
   "source": [
    "import pandas as pd\n",
    "import numpy as np\n",
    "import mysql.connector\n",
    "import unicodedata\n",
    "from tqdm import tqdm"
   ]
  },
  {
   "cell_type": "code",
   "execution_count": 2,
   "metadata": {},
   "outputs": [],
   "source": [
    "import cx_Oracle\n",
    "import os\n",
    "os.chdir(\"C:\\\\Oracle\\\\instantclient_19_5\")"
   ]
  },
  {
   "cell_type": "markdown",
   "metadata": {},
   "source": [
    "***Path***"
   ]
  },
  {
   "cell_type": "code",
   "execution_count": 3,
   "metadata": {},
   "outputs": [],
   "source": [
    "path = 'C:/Users/Thoma/Documents/M1_SID/S2/Projet_inter_promo/All_Data/G4/'"
   ]
  },
  {
   "cell_type": "markdown",
   "metadata": {},
   "source": [
    "***Read files***"
   ]
  },
  {
   "cell_type": "code",
   "execution_count": 4,
   "metadata": {},
   "outputs": [],
   "source": [
    "tfidf_df = pd.read_csv(path + 'g4_tfidf_ALL_DATA.csv', sep=',', nrows=1000)\n",
    "label_df = pd.read_csv(path + 'first_1000_rows_prediction_V1.csv', sep=',')"
   ]
  },
  {
   "cell_type": "code",
   "execution_count": 5,
   "metadata": {},
   "outputs": [],
   "source": [
    "tfidf_df = tfidf_df.rename(\n",
    "    columns={\"tromsø\": \"troms\"}).replace({\"tromsø\": \"troms\"})\n",
    "label_df = label_df.replace({pd.np.nan: None})"
   ]
  },
  {
   "cell_type": "markdown",
   "metadata": {},
   "source": [
    "***Functions***"
   ]
  },
  {
   "cell_type": "code",
   "execution_count": 6,
   "metadata": {},
   "outputs": [],
   "source": [
    "def remove_accents(input_str):\n",
    "    nfkd_form = unicodedata.normalize('NFKD', input_str)\n",
    "    return u\"\".join([c for c in nfkd_form if not unicodedata.combining(c)])\n",
    "\n",
    "\n",
    "def remove_accents_from_list(input_list):\n",
    "    for i in range(len(input_list)):\n",
    "        input_list[i] = remove_accents(input_list[i])\n",
    "    return input_list"
   ]
  },
  {
   "cell_type": "code",
   "execution_count": 7,
   "metadata": {},
   "outputs": [],
   "source": [
    "list_word = list(tfidf_df.columns)[2:]"
   ]
  },
  {
   "cell_type": "code",
   "execution_count": 8,
   "metadata": {},
   "outputs": [],
   "source": [
    "list_word = remove_accents_from_list(list_word)"
   ]
  },
  {
   "cell_type": "markdown",
   "metadata": {},
   "source": [
    "## Insertion"
   ]
  },
  {
   "cell_type": "markdown",
   "metadata": {},
   "source": [
    "***Connection***"
   ]
  },
  {
   "cell_type": "code",
   "execution_count": 9,
   "metadata": {},
   "outputs": [],
   "source": [
    "ORACLE_CONNECT = \"ztt1721a/ekigugu6$@(DESCRIPTION=(SOURCE_ROUTE=OFF)(ADDRESS_LIST=(ADDRESS=(PROTOCOL=TCP)(HOST=telline.univ-tlse3.fr)(PORT=1521)))(CONNECT_DATA=(SID=etupre)))\"\n",
    "mydb = cx_Oracle.connect(ORACLE_CONNECT)"
   ]
  },
  {
   "cell_type": "code",
   "execution_count": 10,
   "metadata": {},
   "outputs": [
    {
     "name": "stderr",
     "output_type": "stream",
     "text": [
      "100%|██████████| 16428/16428 [00:31<00:00, 517.60it/s]\n"
     ]
    }
   ],
   "source": [
    "mycursor = mydb.cursor()\n",
    "mycursor.arraysize = len(list_word)+10\n",
    "sql = \"INSERT INTO Word (id_word, word) VALUES (:1, :2)\"\n",
    "i = 1\n",
    "for word in tqdm(list_word):\n",
    "    mycursor.execute(sql, (i, word))\n",
    "    i += 1\n",
    "mydb.commit()"
   ]
  },
  {
   "cell_type": "code",
   "execution_count": 11,
   "metadata": {},
   "outputs": [
    {
     "name": "stderr",
     "output_type": "stream",
     "text": [
      "100%|██████████| 7862/7862 [00:16<00:00, 464.03it/s]\n"
     ]
    }
   ],
   "source": [
    "mycursor = mydb.cursor()\n",
    "mycursor.arraysize = label_df.shape[0]+10\n",
    "sql = \"INSERT INTO Document (id_doc, ATMOSPHERE, BAGGAGE, CABIN_CREW, COMFORT, EMPTY, FOOD, NOT_FLIGHT, PRICE, PUNCTUALITY) VALUES (:1, :2, :3, :4, :5, :6, :7, :8, :9, :10)\"\n",
    "\n",
    "for i in tqdm(range(0, label_df.shape[0])):\n",
    "    line = list(label_df.iloc[i, :])\n",
    "    val = (i, line[1], line[2], line[3], line[4],\n",
    "           line[5], line[6], line[7], line[8], line[9])\n",
    "    mycursor.execute(sql, val)\n",
    "mydb.commit()"
   ]
  },
  {
   "cell_type": "code",
   "execution_count": 15,
   "metadata": {
    "collapsed": true
   },
   "outputs": [
    {
     "name": "stderr",
     "output_type": "stream",
     "text": [
      " 72%|███████▏  | 721/1000 [01:10<00:46,  6.06it/s]"
     ]
    },
    {
     "name": "stdout",
     "output_type": "stream",
     "text": [
      "(720, 0, 0.09428315818222212)\n"
     ]
    },
    {
     "name": "stderr",
     "output_type": "stream",
     "text": [
      " 90%|█████████ | 903/1000 [01:33<00:09, 10.53it/s]"
     ]
    },
    {
     "name": "stdout",
     "output_type": "stream",
     "text": [
      "(902, 0, 0.1975138058270804)\n"
     ]
    },
    {
     "name": "stderr",
     "output_type": "stream",
     "text": [
      "100%|██████████| 1000/1000 [01:44<00:00,  9.53it/s]\n"
     ]
    }
   ],
   "source": [
    "mycursor = mydb.cursor()\n",
    "mycursor.arraysize = 100000\n",
    "sql = \"INSERT INTO Appear (id_doc,id_word,tfidf) VALUES (:1, :2, :3)\"\n",
    "\n",
    "for i in tqdm(range(0, tfidf_df.shape[0])):\n",
    "    line = list(tfidf_df.iloc[i, 2:])\n",
    "    for j in range(0, len(line)):\n",
    "        if line[j] != 0:\n",
    "            val = (i, j, line[j])\n",
    "            try:\n",
    "                mycursor.execute(sql, val)\n",
    "            except:\n",
    "                pass\n",
    "mydb.commit()"
   ]
  },
  {
   "cell_type": "code",
   "execution_count": null,
   "metadata": {},
   "outputs": [],
   "source": []
  }
 ],
 "metadata": {
  "kernelspec": {
   "display_name": "Python 3",
   "language": "python",
   "name": "python3"
  },
  "language_info": {
   "codemirror_mode": {
    "name": "ipython",
    "version": 3
   },
   "file_extension": ".py",
   "mimetype": "text/x-python",
   "name": "python",
   "nbconvert_exporter": "python",
   "pygments_lexer": "ipython3",
   "version": "3.7.1"
  },
  "toc": {
   "base_numbering": 1,
   "nav_menu": {},
   "number_sections": true,
   "sideBar": true,
   "skip_h1_title": true,
   "title_cell": "Table of Contents",
   "title_sidebar": "Contents",
   "toc_cell": true,
   "toc_position": {},
   "toc_section_display": true,
   "toc_window_display": false
  }
 },
 "nbformat": 4,
 "nbformat_minor": 2
}
